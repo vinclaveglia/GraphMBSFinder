{
  "nbformat": 4,
  "nbformat_minor": 0,
  "metadata": {
    "colab": {
      "provenance": [],
      "collapsed_sections": [
        "am9XUOWxzbra",
        "PKQwROZYyj_W"
      ],
      "authorship_tag": "ABX9TyMjrt7nbA/JELLA/HeMgrTq",
      "include_colab_link": true
    },
    "kernelspec": {
      "name": "python3",
      "display_name": "Python 3"
    },
    "language_info": {
      "name": "python"
    }
  },
  "cells": [
    {
      "cell_type": "markdown",
      "metadata": {
        "id": "view-in-github",
        "colab_type": "text"
      },
      "source": [
        "<a href=\"https://colab.research.google.com/github/vinclaveglia/GraphMBSFinder/blob/master/GraphMBSFinder_19dic.ipynb\" target=\"_parent\"><img src=\"https://colab.research.google.com/assets/colab-badge.svg\" alt=\"Open In Colab\"/></a>"
      ]
    },
    {
      "cell_type": "markdown",
      "source": [],
      "metadata": {
        "id": "xsffWNJQlC65"
      }
    },
    {
      "cell_type": "markdown",
      "source": [
        "### Cloning Repository"
      ],
      "metadata": {
        "id": "am9XUOWxzbra"
      }
    },
    {
      "cell_type": "code",
      "execution_count": 7,
      "metadata": {
        "id": "iN8YogXhx--E",
        "colab": {
          "base_uri": "https://localhost:8080/"
        },
        "outputId": "52f4f78b-3a99-4901-f6f2-63a09b6174e5"
      },
      "outputs": [
        {
          "output_type": "stream",
          "name": "stdout",
          "text": [
            "fatal: destination path 'GraphMBSFinder' already exists and is not an empty directory.\n",
            "Requirement already satisfied: torch-geometric in /usr/local/lib/python3.10/dist-packages (2.4.0)\n",
            "Requirement already satisfied: tqdm in /usr/local/lib/python3.10/dist-packages (from torch-geometric) (4.66.1)\n",
            "Requirement already satisfied: numpy in /usr/local/lib/python3.10/dist-packages (from torch-geometric) (1.23.5)\n",
            "Requirement already satisfied: scipy in /usr/local/lib/python3.10/dist-packages (from torch-geometric) (1.11.4)\n",
            "Requirement already satisfied: jinja2 in /usr/local/lib/python3.10/dist-packages (from torch-geometric) (3.1.2)\n",
            "Requirement already satisfied: requests in /usr/local/lib/python3.10/dist-packages (from torch-geometric) (2.31.0)\n",
            "Requirement already satisfied: pyparsing in /usr/local/lib/python3.10/dist-packages (from torch-geometric) (3.1.1)\n",
            "Requirement already satisfied: scikit-learn in /usr/local/lib/python3.10/dist-packages (from torch-geometric) (1.2.2)\n",
            "Requirement already satisfied: psutil>=5.8.0 in /usr/local/lib/python3.10/dist-packages (from torch-geometric) (5.9.5)\n",
            "Requirement already satisfied: MarkupSafe>=2.0 in /usr/local/lib/python3.10/dist-packages (from jinja2->torch-geometric) (2.1.3)\n",
            "Requirement already satisfied: charset-normalizer<4,>=2 in /usr/local/lib/python3.10/dist-packages (from requests->torch-geometric) (3.3.2)\n",
            "Requirement already satisfied: idna<4,>=2.5 in /usr/local/lib/python3.10/dist-packages (from requests->torch-geometric) (3.6)\n",
            "Requirement already satisfied: urllib3<3,>=1.21.1 in /usr/local/lib/python3.10/dist-packages (from requests->torch-geometric) (2.0.7)\n",
            "Requirement already satisfied: certifi>=2017.4.17 in /usr/local/lib/python3.10/dist-packages (from requests->torch-geometric) (2023.11.17)\n",
            "Requirement already satisfied: joblib>=1.1.1 in /usr/local/lib/python3.10/dist-packages (from scikit-learn->torch-geometric) (1.3.2)\n",
            "Requirement already satisfied: threadpoolctl>=2.0.0 in /usr/local/lib/python3.10/dist-packages (from scikit-learn->torch-geometric) (3.2.0)\n"
          ]
        },
        {
          "output_type": "execute_result",
          "data": {
            "text/plain": [
              "['.config', 'GraphMBSFinder', '12ca.pdb', '4zxn.pdb', 'sample_data']"
            ]
          },
          "metadata": {},
          "execution_count": 7
        }
      ],
      "source": [
        "! git clone https://github.com/vinclaveglia/GraphMBSFinder.git\n",
        "!pip install torch-geometric\n",
        "import sys, os, pathlib\n",
        "sys.path.insert(0, '/content/GraphMBSFinder')\n",
        "os.listdir()"
      ]
    },
    {
      "cell_type": "markdown",
      "source": [
        "### Loading libraries and graph neural network"
      ],
      "metadata": {
        "id": "PKQwROZYyj_W"
      }
    },
    {
      "cell_type": "code",
      "source": [
        "%load_ext autoreload\n",
        "%autoreload 2\n",
        "\n",
        "import sys, pathlib\n",
        "#sys.path.insert(0, '..')\n",
        "#from base.wp_model import ProteinSegmenter2\n",
        "#from base.pdb_loader import load_pdb\n",
        "from base import config\n",
        "import torch_geometric\n",
        "import numpy as np\n",
        "import torch\n",
        "from base.config import Atom\n",
        "import pandas as pd\n",
        "from base.PDB_MBS_preprocessing import get_dataset\n",
        "from base.input import get_random_train_test_proteins\n",
        "import warnings\n",
        "#import biometall\n",
        "from GCN_and_biometall.gnn_biometall_workflow import *\n",
        "\n",
        "warnings.filterwarnings('ignore')\n",
        "device = 'cuda' if torch.cuda.is_available() else 'cpu'\n",
        "\n",
        "net_CA_path = 'GraphMBSFinder/metadata/model_0.01_50_2_5_0.pth'\n",
        "net_CB_path = 'GraphMBSFinder/metadata/model_0.01_50_2_5_0.CB.pth_FP0'\n",
        "\n",
        "net_CA = load_trained_gnn(net_CA_path)\n",
        "net_CB = load_trained_gnn(net_CB_path)\n",
        "\n",
        "net_CA.to(device)\n",
        "net_CB.to(device)"
      ],
      "metadata": {
        "id": "AJ32vV77yO-f",
        "colab": {
          "base_uri": "https://localhost:8080/"
        },
        "outputId": "bc0a3424-288d-45d0-de99-29bb62cfeb06"
      },
      "execution_count": 8,
      "outputs": [
        {
          "output_type": "stream",
          "name": "stdout",
          "text": [
            "The autoreload extension is already loaded. To reload it, use:\n",
            "  %reload_ext autoreload\n"
          ]
        },
        {
          "output_type": "execute_result",
          "data": {
            "text/plain": [
              "ProteinSegmenter2(\n",
              "  (conv1): SAGEConv(22, 50, aggr=mean)\n",
              "  (conv2): SAGEConv(50, 50, aggr=mean)\n",
              "  (conv3): SAGEConv(50, 50, aggr=mean)\n",
              "  (conv4): SAGEConv(50, 3, aggr=mean)\n",
              ")"
            ]
          },
          "metadata": {},
          "execution_count": 8
        }
      ]
    },
    {
      "cell_type": "markdown",
      "source": [
        "### Input:"
      ],
      "metadata": {
        "id": "bJnDE9bXzSZl"
      }
    },
    {
      "cell_type": "code",
      "source": [
        "from google.colab import files\n",
        "uploaded = files.upload()\n",
        "print(uploaded.keys())\n",
        "t_pdb=list(uploaded.keys())[0]"
      ],
      "metadata": {
        "colab": {
          "base_uri": "https://localhost:8080/",
          "height": 38
        },
        "id": "_zFDtcSO3oIg",
        "outputId": "f3591abe-1c20-4ce1-a35a-89932a9c8208"
      },
      "execution_count": null,
      "outputs": [
        {
          "output_type": "display_data",
          "data": {
            "text/plain": [
              "<IPython.core.display.HTML object>"
            ],
            "text/html": [
              "\n",
              "     <input type=\"file\" id=\"files-621a06dc-2510-4a23-bc74-aa9625018896\" name=\"files[]\" multiple disabled\n",
              "        style=\"border:none\" />\n",
              "     <output id=\"result-621a06dc-2510-4a23-bc74-aa9625018896\">\n",
              "      Upload widget is only available when the cell has been executed in the\n",
              "      current browser session. Please rerun this cell to enable.\n",
              "      </output>\n",
              "      <script>// Copyright 2017 Google LLC\n",
              "//\n",
              "// Licensed under the Apache License, Version 2.0 (the \"License\");\n",
              "// you may not use this file except in compliance with the License.\n",
              "// You may obtain a copy of the License at\n",
              "//\n",
              "//      http://www.apache.org/licenses/LICENSE-2.0\n",
              "//\n",
              "// Unless required by applicable law or agreed to in writing, software\n",
              "// distributed under the License is distributed on an \"AS IS\" BASIS,\n",
              "// WITHOUT WARRANTIES OR CONDITIONS OF ANY KIND, either express or implied.\n",
              "// See the License for the specific language governing permissions and\n",
              "// limitations under the License.\n",
              "\n",
              "/**\n",
              " * @fileoverview Helpers for google.colab Python module.\n",
              " */\n",
              "(function(scope) {\n",
              "function span(text, styleAttributes = {}) {\n",
              "  const element = document.createElement('span');\n",
              "  element.textContent = text;\n",
              "  for (const key of Object.keys(styleAttributes)) {\n",
              "    element.style[key] = styleAttributes[key];\n",
              "  }\n",
              "  return element;\n",
              "}\n",
              "\n",
              "// Max number of bytes which will be uploaded at a time.\n",
              "const MAX_PAYLOAD_SIZE = 100 * 1024;\n",
              "\n",
              "function _uploadFiles(inputId, outputId) {\n",
              "  const steps = uploadFilesStep(inputId, outputId);\n",
              "  const outputElement = document.getElementById(outputId);\n",
              "  // Cache steps on the outputElement to make it available for the next call\n",
              "  // to uploadFilesContinue from Python.\n",
              "  outputElement.steps = steps;\n",
              "\n",
              "  return _uploadFilesContinue(outputId);\n",
              "}\n",
              "\n",
              "// This is roughly an async generator (not supported in the browser yet),\n",
              "// where there are multiple asynchronous steps and the Python side is going\n",
              "// to poll for completion of each step.\n",
              "// This uses a Promise to block the python side on completion of each step,\n",
              "// then passes the result of the previous step as the input to the next step.\n",
              "function _uploadFilesContinue(outputId) {\n",
              "  const outputElement = document.getElementById(outputId);\n",
              "  const steps = outputElement.steps;\n",
              "\n",
              "  const next = steps.next(outputElement.lastPromiseValue);\n",
              "  return Promise.resolve(next.value.promise).then((value) => {\n",
              "    // Cache the last promise value to make it available to the next\n",
              "    // step of the generator.\n",
              "    outputElement.lastPromiseValue = value;\n",
              "    return next.value.response;\n",
              "  });\n",
              "}\n",
              "\n",
              "/**\n",
              " * Generator function which is called between each async step of the upload\n",
              " * process.\n",
              " * @param {string} inputId Element ID of the input file picker element.\n",
              " * @param {string} outputId Element ID of the output display.\n",
              " * @return {!Iterable<!Object>} Iterable of next steps.\n",
              " */\n",
              "function* uploadFilesStep(inputId, outputId) {\n",
              "  const inputElement = document.getElementById(inputId);\n",
              "  inputElement.disabled = false;\n",
              "\n",
              "  const outputElement = document.getElementById(outputId);\n",
              "  outputElement.innerHTML = '';\n",
              "\n",
              "  const pickedPromise = new Promise((resolve) => {\n",
              "    inputElement.addEventListener('change', (e) => {\n",
              "      resolve(e.target.files);\n",
              "    });\n",
              "  });\n",
              "\n",
              "  const cancel = document.createElement('button');\n",
              "  inputElement.parentElement.appendChild(cancel);\n",
              "  cancel.textContent = 'Cancel upload';\n",
              "  const cancelPromise = new Promise((resolve) => {\n",
              "    cancel.onclick = () => {\n",
              "      resolve(null);\n",
              "    };\n",
              "  });\n",
              "\n",
              "  // Wait for the user to pick the files.\n",
              "  const files = yield {\n",
              "    promise: Promise.race([pickedPromise, cancelPromise]),\n",
              "    response: {\n",
              "      action: 'starting',\n",
              "    }\n",
              "  };\n",
              "\n",
              "  cancel.remove();\n",
              "\n",
              "  // Disable the input element since further picks are not allowed.\n",
              "  inputElement.disabled = true;\n",
              "\n",
              "  if (!files) {\n",
              "    return {\n",
              "      response: {\n",
              "        action: 'complete',\n",
              "      }\n",
              "    };\n",
              "  }\n",
              "\n",
              "  for (const file of files) {\n",
              "    const li = document.createElement('li');\n",
              "    li.append(span(file.name, {fontWeight: 'bold'}));\n",
              "    li.append(span(\n",
              "        `(${file.type || 'n/a'}) - ${file.size} bytes, ` +\n",
              "        `last modified: ${\n",
              "            file.lastModifiedDate ? file.lastModifiedDate.toLocaleDateString() :\n",
              "                                    'n/a'} - `));\n",
              "    const percent = span('0% done');\n",
              "    li.appendChild(percent);\n",
              "\n",
              "    outputElement.appendChild(li);\n",
              "\n",
              "    const fileDataPromise = new Promise((resolve) => {\n",
              "      const reader = new FileReader();\n",
              "      reader.onload = (e) => {\n",
              "        resolve(e.target.result);\n",
              "      };\n",
              "      reader.readAsArrayBuffer(file);\n",
              "    });\n",
              "    // Wait for the data to be ready.\n",
              "    let fileData = yield {\n",
              "      promise: fileDataPromise,\n",
              "      response: {\n",
              "        action: 'continue',\n",
              "      }\n",
              "    };\n",
              "\n",
              "    // Use a chunked sending to avoid message size limits. See b/62115660.\n",
              "    let position = 0;\n",
              "    do {\n",
              "      const length = Math.min(fileData.byteLength - position, MAX_PAYLOAD_SIZE);\n",
              "      const chunk = new Uint8Array(fileData, position, length);\n",
              "      position += length;\n",
              "\n",
              "      const base64 = btoa(String.fromCharCode.apply(null, chunk));\n",
              "      yield {\n",
              "        response: {\n",
              "          action: 'append',\n",
              "          file: file.name,\n",
              "          data: base64,\n",
              "        },\n",
              "      };\n",
              "\n",
              "      let percentDone = fileData.byteLength === 0 ?\n",
              "          100 :\n",
              "          Math.round((position / fileData.byteLength) * 100);\n",
              "      percent.textContent = `${percentDone}% done`;\n",
              "\n",
              "    } while (position < fileData.byteLength);\n",
              "  }\n",
              "\n",
              "  // All done.\n",
              "  yield {\n",
              "    response: {\n",
              "      action: 'complete',\n",
              "    }\n",
              "  };\n",
              "}\n",
              "\n",
              "scope.google = scope.google || {};\n",
              "scope.google.colab = scope.google.colab || {};\n",
              "scope.google.colab._files = {\n",
              "  _uploadFiles,\n",
              "  _uploadFilesContinue,\n",
              "};\n",
              "})(self);\n",
              "</script> "
            ]
          },
          "metadata": {}
        }
      ]
    },
    {
      "cell_type": "markdown",
      "source": [
        "### Run prediction"
      ],
      "metadata": {
        "id": "3tNoKMzvzxwm"
      }
    },
    {
      "cell_type": "code",
      "source": [
        "path_to_structures = pathlib.Path('.')\n",
        "path_to_sites = pathlib.Path('.')\n",
        "\n",
        "db_sites = []\n",
        "\n",
        "input_graph_CA = get_dataset([t_pdb],\n",
        "                             atom=Atom.CA,\n",
        "                             sites=db_sites,\n",
        "                             path_to_structures=path_to_structures,\n",
        "                             path_to_sites=path_to_sites)\n",
        "\n",
        "input_graph_CB = get_dataset([t_pdb],\n",
        "                             atom=Atom.CB,\n",
        "                             sites=db_sites,\n",
        "                             path_to_structures=path_to_structures,\n",
        "                             path_to_sites=path_to_sites)\n",
        "\n",
        "input_graph_CA = input_graph_CA[t_pdb]\n",
        "input_graph_CB = input_graph_CB[t_pdb]\n",
        "\n",
        "input_graph_CA.to(device)\n",
        "input_graph_CB.to(device)\n",
        "\n",
        "pred = gnn_bmtl_predict(t_pdb, input_graph_CA, input_graph_CB, net_CA, net_CB, path_to_structures)\n",
        "\n",
        "include_and_overlap(pred)\n",
        "\n",
        "site_lenghts = sorted([int(x) for x in list(pred.keys())], reverse=True)\n",
        "RES = []\n",
        "for l in site_lenghts:\n",
        "    for d in pred[l]:\n",
        "        if 'included' not in d.keys():\n",
        "            if 'overlap' not in d.keys():\n",
        "                print(\"()\",d)\n",
        "                RES.append(d)\n",
        "print(RES)"
      ],
      "metadata": {
        "colab": {
          "base_uri": "https://localhost:8080/"
        },
        "id": "xxI2aJdD7Tdx",
        "outputId": "b2216a67-06d3-48c2-bfe3-c35f6c54c878"
      },
      "execution_count": 5,
      "outputs": [
        {
          "output_type": "stream",
          "name": "stdout",
          "text": [
            "LEN:  369\n",
            "NON ISOLATI ['ASP_334_A', 'HIS_336_A', 'HIS_339_A', 'HIS_340_A']\n",
            "UNION ['ASP_334_A', 'HIS_336_A', 'HIS_339_A', 'HIS_340_A', 'CYS_113_A', 'CYS_162_A', 'HIS_336_A', 'ASP_337_A', 'HIS_339_A', 'HIS_340_A', 'HIS_381_A', 'CYS_382_A']\n",
            "- - - - - - - - - - - - - - - - - - - - - - - - - - - - - - - - - - - - - - - - - - - - - - - - - - - - - - - - - - - - \n",
            "BIOMETALL\n",
            "() {'residues': ['HIS_336_A', 'ASP_337_A', 'HIS_339_A', 'HIS_340_A'], 'n_probes': 7, 'center': array([-26.40843 , -18.37243 ,   5.362428], dtype=float32)}\n",
            "[{'residues': ['HIS_336_A', 'ASP_337_A', 'HIS_339_A', 'HIS_340_A'], 'n_probes': 7, 'center': array([-26.40843 , -18.37243 ,   5.362428], dtype=float32)}]\n"
          ]
        }
      ]
    },
    {
      "cell_type": "markdown",
      "source": [],
      "metadata": {
        "id": "pPGpxMHzyicJ"
      }
    }
  ]
}